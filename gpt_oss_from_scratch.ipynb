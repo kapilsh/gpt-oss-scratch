{
 "cells": [
  {
   "cell_type": "markdown",
   "metadata": {
    "colab_type": "text",
    "id": "view-in-github"
   },
   "source": [
    "<a href=\"https://colab.research.google.com/github/kapilsh/gpt-oss-scratch/blob/main/gpt_oss_from_scratch.ipynb\" target=\"_parent\"><img src=\"https://colab.research.google.com/assets/colab-badge.svg\" alt=\"Open In Colab\"/></a>"
   ]
  },
  {
   "cell_type": "markdown",
   "metadata": {
    "id": "yGYezJz4pcCC"
   },
   "source": [
    "# GPT OSS Architecture\n",
    "\n",
    "![GPT OSS Architecture](./resources/AI%20Knowledge%20Bank.jpg)"
   ]
  },
  {
   "cell_type": "markdown",
   "metadata": {},
   "source": [
    "Let's build out these components one by one. In some cases, we can just see how the individual modules will work but there are already PyTorch version available so we will use that at the end\n",
    "\n",
    "## RMS Norm\n",
    "\n",
    "https://arxiv.org/pdf/1910.07467\n",
    "\n",
    "![RMS Norm](./resources/rms_norm.png)\n",
    "\n",
    "PyTorch already has an implementation of RMSNorm in `torch.nn.RMSNorm` but we can check our sample implementation wrt PyTorch one."
   ]
  },
  {
   "cell_type": "code",
   "execution_count": 1,
   "metadata": {
    "id": "UXigi18rlrZ9"
   },
   "outputs": [],
   "source": [
    "import torch\n",
    "import torch.nn as nn\n",
    "import torch.nn.functional as F\n",
    "\n",
    "\n",
    "class RMSNorm(nn.Module):\n",
    "    def __init__(self, embedding_dimension: int, eps: float = 1e-5):\n",
    "        super().__init__()\n",
    "        self.eps = eps\n",
    "        self.embedding_dimension = embedding_dimension\n",
    "        self.weight = nn.Parameter(torch.ones(embedding_dimension))\n",
    "\n",
    "    def forward(self, x: torch.Tensor):\n",
    "        means = x.pow(2).mean(dim=-1, keepdim=True)\n",
    "        return (x * torch.rsqrt(means + self.eps)) * self.weight"
   ]
  },
  {
   "cell_type": "code",
   "execution_count": 2,
   "metadata": {},
   "outputs": [
    {
     "name": "stdout",
     "output_type": "stream",
     "text": [
      "RMSNorm Output:\n",
      " tensor([[ 0.1320, -0.9238,  1.6579,  0.3327, -1.0104,  1.5548, -0.6049,  0.1175],\n",
      "        [-1.3424,  0.9246, -0.1695,  1.2431,  0.8749, -0.7790,  0.4794, -1.0085],\n",
      "        [ 0.7454, -1.6244,  0.1266, -0.6575,  0.2338,  2.3311, -1.0372,  0.6847],\n",
      "        [ 1.4523, -0.2520,  0.5131,  1.2707, -0.9557,  1.2482, -0.4051,  0.2138]],\n",
      "       grad_fn=<MulBackward0>)\n"
     ]
    }
   ],
   "source": [
    "x = torch.tensor(\n",
    "    [\n",
    "        [0.1200, -0.5600, 1.3400, 0.2200, -1.0500, 0.8700, -0.4400, 0.0900],\n",
    "        [-0.9800, 0.4500, -0.1100, 0.6600, 0.7300, -0.3500, 0.2800, -0.6200],\n",
    "        [0.5300, -0.7700, 0.0800, -0.3400, 0.1900, 1.0200, -0.5900, 0.4100],\n",
    "        [1.2100, -0.1400, 0.3800, 0.7700, -0.9100, 0.6400, -0.2700, 0.1500],\n",
    "    ]\n",
    ")\n",
    "\n",
    "rms_norm = RMSNorm(embedding_dimension=x.shape[-1])\n",
    "rms_norm.weight.data = torch.tensor(\n",
    "    [0.8, 1.2, 0.9, 1.1, 0.7, 1.3, 1.0, 0.95]\n",
    ")  # Setting custom weights for demonstration\n",
    "rms_norm_out = rms_norm(x)\n",
    "print(\"RMSNorm Output:\\n\", rms_norm_out)"
   ]
  },
  {
   "cell_type": "markdown",
   "metadata": {},
   "source": [
    "\n",
    "### Visualization\n",
    "\n",
    "Here's is visualization of how RMSNorm works in practice taking a batch_size = 4 and embedding size = 8 example:\n",
    "\n",
    "![RMS Norm Viz](./resources/rms_norm_viz.png)\n",
    "\n",
    "### Test"
   ]
  },
  {
   "cell_type": "code",
   "execution_count": 3,
   "metadata": {
    "id": "7SwqijzHmorK"
   },
   "outputs": [],
   "source": [
    "torch.manual_seed(123)\n",
    "\n",
    "example_batch = torch.randn(2, 3, 4)\n",
    "\n",
    "rms_norm = RMSNorm(embedding_dimension=example_batch.shape[-1])\n",
    "rmsnorm_pytorch = torch.nn.RMSNorm(example_batch.shape[-1], eps=1e-5)\n",
    "\n",
    "assert torch.allclose(rms_norm(example_batch), rmsnorm_pytorch(example_batch))"
   ]
  },
  {
   "cell_type": "code",
   "execution_count": null,
   "metadata": {
    "id": "lm1uxjxrnp3c"
   },
   "outputs": [],
   "source": []
  }
 ],
 "metadata": {
  "colab": {
   "authorship_tag": "ABX9TyMeGraXIA4Mgf4GnSnpYs2r",
   "include_colab_link": true,
   "provenance": []
  },
  "kernelspec": {
   "display_name": "models",
   "language": "python",
   "name": "python3"
  },
  "language_info": {
   "codemirror_mode": {
    "name": "ipython",
    "version": 3
   },
   "file_extension": ".py",
   "mimetype": "text/x-python",
   "name": "python",
   "nbconvert_exporter": "python",
   "pygments_lexer": "ipython3",
   "version": "3.13.5"
  }
 },
 "nbformat": 4,
 "nbformat_minor": 0
}
